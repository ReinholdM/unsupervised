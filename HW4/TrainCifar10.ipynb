{
 "cells": [
  {
   "cell_type": "code",
   "execution_count": 1,
   "metadata": {},
   "outputs": [],
   "source": [
    "%load_ext autoreload\n",
    "%autoreload 2import tensorflow as tf\n",
    "import tensorflow as tf\n",
    "from tensorflow.keras.datasets import cifar10\n",
    "from tensorflow.keras.utils import to_categorical\n",
    "from tensorflow.keras.metrics import CategoricalAccuracy\n",
    "from tensorflow.keras.preprocessing.image import ImageDataGenerator\n",
    "import numpy as np\n",
    "import cv2\n",
    "import matplotlib.pyplot as plt"
   ]
  },
  {
   "cell_type": "code",
   "execution_count": 2,
   "metadata": {},
   "outputs": [],
   "source": [
    "def resize(data, size):\n",
    "    scaled = np.zeros((data.shape[0],) + size + (3,))\n",
    "    for i, img in enumerate(data):\n",
    "        scaled[i,...] = cv2.resize(img, dsize=size, interpolation=cv2.INTER_CUBIC)\n",
    "    return scaled"
   ]
  },
  {
   "cell_type": "code",
   "execution_count": 3,
   "metadata": {},
   "outputs": [
    {
     "name": "stdout",
     "output_type": "stream",
     "text": [
      "(50000, 96, 96, 3)\n"
     ]
    }
   ],
   "source": [
    "input_shape = (96,96,3)\n",
    "\n",
    "(x_train, y_train), (x_val, y_val) = cifar10.load_data()\n",
    "x_train = (resize(x_train, size=input_shape[:2])-127)/128\n",
    "x_val = (resize(x_val, size=input_shape[:2])-127)/128\n",
    "y_train = to_categorical(y_train, 10)\n",
    "y_val = to_categorical(y_val, 10)\n",
    "print(x_train.shape)"
   ]
  },
  {
   "cell_type": "code",
   "execution_count": 4,
   "metadata": {},
   "outputs": [
    {
     "name": "stderr",
     "output_type": "stream",
     "text": [
      "WARNING: Logging before flag parsing goes to stderr.\n",
      "W1230 16:48:14.996059 140024589399872 deprecation.py:506] From /home/david/anaconda3/lib/python3.7/site-packages/tensorflow/python/ops/init_ops.py:1251: calling VarianceScaling.__init__ (from tensorflow.python.ops.init_ops) with dtype is deprecated and will be removed in a future version.\n",
      "Instructions for updating:\n",
      "Call initializer instance with the dtype argument instead of passing it to the constructor\n"
     ]
    }
   ],
   "source": [
    "model = tf.keras.applications.InceptionResNetV2(include_top=True, classes=10, \n",
    "    weights=None, input_shape=input_shape)\n",
    "\n",
    "weight_decay = 1e-3\n",
    "\n",
    "for layer in model.layers:\n",
    "    if isinstance(layer, tf.keras.layers.Conv2D) or isinstance(layer, tf.keras.layers.Dense):\n",
    "        layer.add_loss(tf.keras.regularizers.l2(weight_decay)(layer.kernel))\n",
    "\n",
    "optimizer = tf.keras.optimizers.Adam(lr=0.0001, decay=1e-5)\n",
    "model.compile(optimizer=optimizer, loss=['categorical_crossentropy'], metrics=['accuracy'])"
   ]
  },
  {
   "cell_type": "code",
   "execution_count": 5,
   "metadata": {},
   "outputs": [],
   "source": [
    "datagen = ImageDataGenerator(\n",
    "    featurewise_center=False,  # set input mean to 0 over the dataset\n",
    "    samplewise_center=False,  # set each sample mean to 0\n",
    "    featurewise_std_normalization=False,  # divide inputs by std of the dataset\n",
    "    samplewise_std_normalization=False,  # divide each input by its std\n",
    "    zca_whitening=False,  # apply ZCA whitening\n",
    "    zca_epsilon=1e-06,  # epsilon for ZCA whitening\n",
    "    rotation_range=0,  # randomly rotate images in the range (degrees, 0 to 180)\n",
    "    # randomly shift images horizontally (fraction of total width)\n",
    "    width_shift_range=0.1,\n",
    "    # randomly shift images vertically (fraction of total height)\n",
    "    height_shift_range=0.1,\n",
    "    shear_range=0.,  # set range for random shear\n",
    "    zoom_range=0.,  # set range for random zoom\n",
    "    channel_shift_range=0.,  # set range for random channel shifts\n",
    "    # set mode for filling points outside the input boundaries\n",
    "    fill_mode='nearest',\n",
    "    cval=0.,  # value used for fill_mode = \"constant\"\n",
    "    horizontal_flip=True,  # randomly flip images\n",
    "    vertical_flip=False,  # randomly flip images\n",
    "    # set rescaling factor (applied before any other transformation)\n",
    "    rescale=None,\n",
    "    # set function that will be applied on each input\n",
    "    preprocessing_function=None,\n",
    "    # image data format, either \"channels_first\" or \"channels_last\"\n",
    "    data_format=None,\n",
    "    # fraction of images reserved for validation (strictly between 0 and 1)\n",
    "    validation_split=0.0)\n",
    "\n",
    "# Compute quantities required for feature-wise normalization\n",
    "# (std, mean, and principal components if ZCA whitening is applied).\n",
    "datagen.fit(x_train)"
   ]
  },
  {
   "cell_type": "code",
   "execution_count": 6,
   "metadata": {},
   "outputs": [
    {
     "name": "stdout",
     "output_type": "stream",
     "text": [
      "Epoch 1/25\n",
      "782/782 [==============================] - 231s 295ms/step - loss: 43.6771 - acc: 0.4718 - val_loss: 29.8202 - val_acc: 0.5709\n",
      "Epoch 2/25\n",
      "782/782 [==============================] - 186s 238ms/step - loss: 21.5787 - acc: 0.6058 - val_loss: 15.3585 - val_acc: 0.6424\n",
      "Epoch 3/25\n",
      "782/782 [==============================] - 186s 238ms/step - loss: 11.9094 - acc: 0.6684 - val_loss: 9.3739 - val_acc: 0.6785\n",
      "Epoch 4/25\n",
      "782/782 [==============================] - 188s 241ms/step - loss: 7.7556 - acc: 0.7136 - val_loss: 6.5590 - val_acc: 0.7135\n",
      "Epoch 5/25\n",
      "782/782 [==============================] - 185s 237ms/step - loss: 5.6414 - acc: 0.7474 - val_loss: 4.9050 - val_acc: 0.7651\n",
      "Epoch 6/25\n",
      "782/782 [==============================] - 185s 237ms/step - loss: 4.3537 - acc: 0.7763 - val_loss: 4.0723 - val_acc: 0.7353\n",
      "Epoch 7/25\n",
      "782/782 [==============================] - 184s 235ms/step - loss: 3.4976 - acc: 0.7944 - val_loss: 3.3103 - val_acc: 0.7547\n",
      "Epoch 8/25\n",
      "782/782 [==============================] - 184s 236ms/step - loss: 2.9074 - acc: 0.8115 - val_loss: 2.7706 - val_acc: 0.7792\n",
      "Epoch 9/25\n",
      "782/782 [==============================] - 183s 234ms/step - loss: 2.4843 - acc: 0.8242 - val_loss: 2.3788 - val_acc: 0.8100\n",
      "Epoch 10/25\n",
      "782/782 [==============================] - 183s 234ms/step - loss: 2.1718 - acc: 0.8366 - val_loss: 2.1069 - val_acc: 0.8197\n",
      "Epoch 11/25\n",
      "782/782 [==============================] - 183s 234ms/step - loss: 1.9336 - acc: 0.8467 - val_loss: 1.9368 - val_acc: 0.8154\n",
      "Epoch 12/25\n",
      "782/782 [==============================] - 183s 234ms/step - loss: 1.7578 - acc: 0.8538 - val_loss: 1.8052 - val_acc: 0.8199\n",
      "Epoch 13/25\n",
      "782/782 [==============================] - 183s 234ms/step - loss: 1.6157 - acc: 0.8612 - val_loss: 1.7973 - val_acc: 0.7930\n",
      "Epoch 14/25\n",
      "782/782 [==============================] - 183s 234ms/step - loss: 1.4935 - acc: 0.8716 - val_loss: 1.5707 - val_acc: 0.8399\n",
      "Epoch 15/25\n",
      "782/782 [==============================] - 183s 234ms/step - loss: 1.4049 - acc: 0.8783 - val_loss: 1.6289 - val_acc: 0.7976\n",
      "Epoch 16/25\n",
      "782/782 [==============================] - 182s 233ms/step - loss: 1.3247 - acc: 0.8832 - val_loss: 1.4108 - val_acc: 0.8484\n",
      "Epoch 17/25\n",
      "782/782 [==============================] - 182s 233ms/step - loss: 1.2571 - acc: 0.8901 - val_loss: 1.4959 - val_acc: 0.8148\n",
      "Epoch 18/25\n",
      "782/782 [==============================] - 183s 234ms/step - loss: 1.2053 - acc: 0.8940 - val_loss: 1.3491 - val_acc: 0.8461\n",
      "Epoch 19/25\n",
      "782/782 [==============================] - 182s 233ms/step - loss: 1.1454 - acc: 0.8977 - val_loss: 1.5246 - val_acc: 0.7783\n",
      "Epoch 20/25\n",
      "782/782 [==============================] - 183s 234ms/step - loss: 1.1125 - acc: 0.9000 - val_loss: 1.2803 - val_acc: 0.8395\n",
      "Epoch 21/25\n",
      "782/782 [==============================] - 183s 234ms/step - loss: 1.0672 - acc: 0.9046 - val_loss: 1.2049 - val_acc: 0.8548\n",
      "Epoch 22/25\n",
      "782/782 [==============================] - 183s 234ms/step - loss: 1.0301 - acc: 0.9101 - val_loss: 1.1700 - val_acc: 0.8594\n",
      "Epoch 23/25\n",
      "782/782 [==============================] - 183s 234ms/step - loss: 0.9964 - acc: 0.9143 - val_loss: 1.1768 - val_acc: 0.8594\n",
      "Epoch 24/25\n",
      "782/782 [==============================] - 182s 233ms/step - loss: 0.9710 - acc: 0.9139 - val_loss: 1.2452 - val_acc: 0.8355\n",
      "Epoch 25/25\n",
      "782/782 [==============================] - 183s 234ms/step - loss: 0.9375 - acc: 0.9195 - val_loss: 1.1563 - val_acc: 0.8535\n",
      "Saved trained model at inception_resnet_v2_cifar10_v4.h5\n"
     ]
    }
   ],
   "source": [
    "history = model.fit_generator(datagen.flow(x_train, y_train, batch_size=64), \n",
    "                    epochs=25, validation_data=(x_val,y_val))\n",
    "\n",
    "# Save model and weights\n",
    "model_name = 'inception_resnet_v2_cifar10_v4.h5'\n",
    "model.save(model_name)\n",
    "print('Saved trained model at %s' % model_name)"
   ]
  },
  {
   "cell_type": "code",
   "execution_count": 7,
   "metadata": {},
   "outputs": [
    {
     "data": {
      "image/png": "[encoded data removed]",
      "text/plain": [
       "<Figure size 432x288 with 1 Axes>"
      ]
     },
     "metadata": {
      "needs_background": "light"
     },
     "output_type": "display_data"
    },
    {
     "data": {
      "image/png": "[encoded data removed]",
      "text/plain": [
       "<Figure size 432x288 with 1 Axes>"
      ]
     },
     "metadata": {
      "needs_background": "light"
     },
     "output_type": "display_data"
    }
   ],
   "source": [
    "# Plot training & validation accuracy values\n",
    "plt.plot(history.history['acc'])\n",
    "plt.plot(history.history['val_acc'])\n",
    "plt.title('Model accuracy')\n",
    "plt.ylabel('Accuracy')\n",
    "plt.xlabel('Epoch')\n",
    "plt.legend(['Train', 'Test'], loc='upper left')\n",
    "plt.show()\n",
    "\n",
    "# Plot training & validation loss values\n",
    "plt.plot(history.history['loss'])\n",
    "plt.plot(history.history['val_loss'])\n",
    "plt.title('Model loss')\n",
    "plt.ylabel('Loss')\n",
    "plt.xlabel('Epoch')\n",
    "plt.legend(['Train', 'Test'], loc='upper left')\n",
    "plt.show()"
   ]
  },
  {
   "cell_type": "code",
   "execution_count": 8,
   "metadata": {},
   "outputs": [
    {
     "name": "stdout",
     "output_type": "stream",
     "text": [
      "10000/10000 [==============================] - 15s 1ms/sample - loss: 1.1560 - acc: 0.8535\n"
     ]
    },
    {
     "data": {
      "text/plain": [
       "[1.156026328086853, 0.8535]"
      ]
     },
     "execution_count": 8,
     "metadata": {},
     "output_type": "execute_result"
    }
   ],
   "source": [
    "model.evaluate(x_val, y_val)"
   ]
  }
 ],
 "metadata": {
  "kernelspec": {
   "display_name": "Python 3",
   "language": "python",
   "name": "python3"
  },
  "language_info": {
   "codemirror_mode": {
    "name": "ipython",
    "version": 3
   },
   "file_extension": ".py",
   "mimetype": "text/x-python",
   "name": "python",
   "nbconvert_exporter": "python",
   "pygments_lexer": "ipython3",
   "version": "3.7.3"
  }
 },
 "nbformat": 4,
 "nbformat_minor": 2
}
